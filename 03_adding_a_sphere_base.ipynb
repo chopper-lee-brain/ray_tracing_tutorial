{
 "cells": [
  {
   "attachments": {},
   "cell_type": "markdown",
   "metadata": {},
   "source": [
    "# 03 Adding a sphere\n",
    "\n",
    "* 구(sphere)를 정의하고 ray가 구를 통과하는지를 확인하는 예제 입니다."
   ]
  },
  {
   "cell_type": "code",
   "execution_count": 1,
   "metadata": {},
   "outputs": [],
   "source": [
    "import numpy as np\n",
    "import numpy.linalg as LA\n",
    "\n",
    "import matplotlib.pyplot as plt"
   ]
  },
  {
   "cell_type": "code",
   "execution_count": 2,
   "metadata": {},
   "outputs": [],
   "source": [
    "def normalize(vec: np.array, eps: float = 1e-6):\n",
    "  return vec / (LA.norm(vec) + eps) \n",
    "\n",
    "def blend(color1: np.array, color2: np.array, t: float):\n",
    "  return (1.0-t)*color1 + t*color2"
   ]
  },
  {
   "cell_type": "code",
   "execution_count": 3,
   "metadata": {},
   "outputs": [],
   "source": [
    "class Ray:\n",
    "  def __init__(self, origin: np.array, direction: np.array) -> None:\n",
    "    self.origin: np.array = origin    \n",
    "    self.direction: np.array = normalize(direction)\n",
    "\n",
    "  def at(self, t: float) -> np.array:\n",
    "    return self.origin + t*self.direction"
   ]
  },
  {
   "attachments": {},
   "cell_type": "markdown",
   "metadata": {},
   "source": [
    "### 원의 방정식\n",
    "* 중심이 원점에 있고 반지름이 R인 구의 방정식은 $x^2 + y^2 + z^2 = R^2$으로 나타냅니다.\n",
    "  * 한 점 $[x, y, z]^\\intercal$가 구의 표면에 위치하는 경우에만 $x^2 + y^2 + z^2 = R^2$가 성립합니다.\n",
    "  * 한 점 $[x, y, z]^\\intercal$가 구의 위부에 위치한다면 $x^2 + y^2 + z^2 > R^2$가 되고 반대로 구의 내부에 위치한다면 $x^2 + y^2 + z^2 < R^2$가 됩니다.\n",
    "* 구의 중심이 $[C_x, C_y, C_z]^\\intercal$에 있다면 구의 방정식은 다음과 같이 나타낼수 있습니다.\n",
    "$$(x-c_x)^2 + (y-c_y)^2 + (z-c_z)^2 = r^2$$\n",
    "* $\\mathbf{C} = (C_x, C_y, c_z)$에서 $\\mathbf{P} = (x, y, z)$로 향하는 벡터가 있을때 다음과 같이 나타낼 수 있습니다.\n",
    "$$(\\mathbf{P}-\\mathbf{C}) \\cdot (\\mathbf{P}-\\mathbf{C}) = (x - C_x)^2 + (y - C_y)^2 + (z - C_z)^2$$\n",
    "* 위의 식을 벡터 형식으로 정리하면 $(\\mathbf{P}-\\mathbf{C}) \\cdot (\\mathbf{P}-\\mathbf{C}) = r^2$가 됩니다.\n",
    "  * 위의 식을 만족하는 모든 점 $\\mathbf{P}$는 구의 표면에 위치 합니다."
   ]
  },
  {
   "attachments": {},
   "cell_type": "markdown",
   "metadata": {},
   "source": [
    "### 구와 ray\n",
    "* 여기서는 Ray가 구와 만나는지 알아보려 합니다.\n",
    "  * Ray를 $\\mathbf{A} + t\\mathbf{b} = \\mathbf{P}(t)$와 같이 $t$에 대한 함수로 나타낼 수 있습니다.\n",
    "    * $\\mathbf{A}$는 ray의 시작점, $\\mathbf{b}$는 ray의 방향을 나타냅니다.\n",
    "  * 특정 $t$에 대해서 $\\mathbf{P}(t)$가 구의 방정식을 만족한다면 ray과 구와 만난다고 할 수 있습니다.\n",
    "* 다음의 수식 $(\\mathbf{P}(t)-\\mathbf{C}) \\cdot (\\mathbf{P}(t)-\\mathbf{C}) = r^2$을 만족하는 $t$를 찾습니다.\n",
    "  * 위의 수식에서 $\\mathbf{P}(t)$를 전개하면 다음과 같습니다.\n",
    "$$(\\mathbf{A} + t\\mathbf{b}-\\mathbf{C}) \\cdot (\\mathbf{A} + t\\mathbf{b}-\\mathbf{C}) = r^2$$\n",
    "  * 위의 수식을 정리하고 대수를 모두 좌측으로 옮기면 다음과 같습니다.\n",
    "$$ t^2 \\mathbf{b} \\cdot \\mathbf{b} + 2t\\mathbf{b} \\cdot (\\mathbf{A} - \\mathbf{C}) + (\\mathbf{A} - \\mathbf{C}) \\cdot (\\mathbf{A} - \\mathbf{C}) - r^2 = 0$$\n",
    "\n",
    "<center>\n",
    "<img src=\"./images/ray_and_sphere.png\" width=\"500px\" height=\"350px\" title=\"broadcasting\"/>\n",
    "</center>"
   ]
  },
  {
   "attachments": {},
   "cell_type": "markdown",
   "metadata": {},
   "source": [
    "### 근의 공식\n",
    "$$ax^2 + bx + c = 0$$\n",
    "* $a = \\mathbf{b} \\cdot \\mathbf{b}$\n",
    "* $b = 2 \\mathbf{b} \\cdot (\\mathbf{A} - \\mathbf{C})$\n",
    "* $c = (\\mathbf{A} - \\mathbf{C}) \\cdot (\\mathbf{A} - \\mathbf{C}) - r^2$\n",
    "$$x = \\frac{-b \\pm \\sqrt{b^2 - 4ac}}{2a}$$\n",
    "* 판별식: $b^2 - 4ac$\n",
    "  * $b^2 - 4ac < 0$: 근 없음\n",
    "  * $b^2 - 4ac = 0$: 근 하나\n",
    "  * $b^2 - 4ac > 0$: 근 두 개 "
   ]
  },
  {
   "cell_type": "code",
   "execution_count": 4,
   "metadata": {},
   "outputs": [],
   "source": [
    "def is_hit_sphere(center: np.array, radius: float, ray: Ray):\n",
    "  dir_center_to_origin = ray.origin - center\n",
    "   \n",
    "  a = np.dot(ray.direction, ray.direction)\n",
    "  b = 2.0*np.dot(dir_center_to_origin, ray.direction)   \n",
    "  c = np.dot(dir_center_to_origin, dir_center_to_origin) - radius**2.0\n",
    "\n",
    "  discriminant = b**2 - 4*a*c\n",
    "  return discriminant >= 0"
   ]
  },
  {
   "attachments": {},
   "cell_type": "markdown",
   "metadata": {},
   "source": [
    "### 근의 공식 간단화\n",
    "$$\\frac{-b \\pm \\sqrt{b^2 - 4ac}}{2a}$$\n",
    "$$ = \\frac{-2h \\pm \\sqrt{(2h)^2 - 4ac}}{2a}$$\n",
    "$$ = \\frac{-2h \\pm 2\\sqrt{h^2 - ac}}{2a}$$\n",
    "$$ = \\frac{-h \\pm \\sqrt{h^2 - ac}}{a}$$\n",
    "\n",
    "* 판별식: $h^2 - ac$\n",
    "  * $h^2 - ac < 0$: 근 없음\n",
    "  * $h^2 - ac = 0$: 근 하나\n",
    "  * $h^2 - ac > 0$: 근 두 개 "
   ]
  },
  {
   "cell_type": "code",
   "execution_count": 5,
   "metadata": {},
   "outputs": [],
   "source": [
    "def is_hit_sphere(center: np.array, radius: float, ray: Ray):\n",
    "  dir_center_to_origin = ray.origin - center\n",
    "   \n",
    "  a = np.dot(ray.direction, ray.direction)\n",
    "  half_b = np.dot(dir_center_to_origin, ray.direction)   \n",
    "  c = np.dot(dir_center_to_origin, dir_center_to_origin) - radius**2.0\n",
    "  \n",
    "  discriminant = half_b**2 - a*c\n",
    "  return discriminant >= 0"
   ]
  },
  {
   "attachments": {},
   "cell_type": "markdown",
   "metadata": {},
   "source": [
    "* ray_color 함수\n",
    "  * ray가 구와 만나면 구의 색을 반환\n",
    "  * ray가 구와 만나지 않으면 배경의 색을 반환"
   ]
  },
  {
   "cell_type": "code",
   "execution_count": 6,
   "metadata": {},
   "outputs": [],
   "source": [
    "def ray_color(ray: Ray) -> np.array:\n",
    "  sphere_center = np.array([0, 0, -1])\n",
    "  if (is_hit_sphere(center=sphere_center, radius=0.5, ray=ray)):\n",
    "     return np.array([1.0, 0.0, 0.0])\n",
    "\n",
    "  t = 0.5*(ray.direction[1] + 1.0)\n",
    "  color1 = np.array([1.0, 1.0, 1.0])\n",
    "  color2 = np.array([0.5, 0.7, 1.0])\n",
    "  return blend(color1=color1, color2=color2, t=t)"
   ]
  },
  {
   "cell_type": "code",
   "execution_count": 7,
   "metadata": {},
   "outputs": [],
   "source": [
    "# image\n",
    "aspect_ratio = 16.0 / 9.0\n",
    "image_height = 200\n",
    "image_width = int(aspect_ratio * image_height)\n",
    "\n",
    "image = np.zeros([image_height, image_width, 3])"
   ]
  },
  {
   "cell_type": "code",
   "execution_count": 8,
   "metadata": {},
   "outputs": [],
   "source": [
    "# camera\n",
    "viewport_height = 2.0\n",
    "viewport_width = aspect_ratio * viewport_height\n",
    "focal_length = 1.0\n",
    "\n",
    "camera_origin = np.array([0.0, 0.0, 0.0])\n",
    "horizontal_vec = np.array([viewport_width, 0.0, 0.0])\n",
    "vertical_vec = np.array([0.0, viewport_height, 0.0])\n",
    "frontal_vec = np.array([0.0, 0.0, focal_length])\n",
    "lower_left_corner = camera_origin - horizontal_vec/2.0 - vertical_vec/2.0 - frontal_vec"
   ]
  },
  {
   "cell_type": "code",
   "execution_count": 9,
   "metadata": {},
   "outputs": [
    {
     "name": "stdout",
     "output_type": "stream",
     "text": [
      "CPU times: user 1.71 s, sys: 13.4 ms, total: 1.72 s\n",
      "Wall time: 1.72 s\n"
     ]
    }
   ],
   "source": [
    "%%time\n",
    "\n",
    "for row in range(image_height):\n",
    "  for col in range(image_width):\n",
    "    u = float(col) / (image_width - 1)\n",
    "    v = float(row) / (image_height - 1)\n",
    "\n",
    "    ray = Ray(origin=camera_origin,\n",
    "              direction=(lower_left_corner + u*horizontal_vec + v*vertical_vec) - camera_origin)\n",
    "        \n",
    "    image[row, col] = ray_color(ray)"
   ]
  },
  {
   "cell_type": "code",
   "execution_count": 10,
   "metadata": {},
   "outputs": [
    {
     "data": {
      "image/png": "[encoded data removed]",
      "text/plain": [
       "<Figure size 640x480 with 1 Axes>"
      ]
     },
     "metadata": {},
     "output_type": "display_data"
    }
   ],
   "source": [
    "plt.imshow(image, origin='lower')\n",
    "plt.show()"
   ]
  },
  {
   "cell_type": "code",
   "execution_count": null,
   "metadata": {},
   "outputs": [],
   "source": []
  }
 ],
 "metadata": {
  "kernelspec": {
   "display_name": "base",
   "language": "python",
   "name": "python3"
  },
  "language_info": {
   "codemirror_mode": {
    "name": "ipython",
    "version": 3
   },
   "file_extension": ".py",
   "mimetype": "text/x-python",
   "name": "python",
   "nbconvert_exporter": "python",
   "pygments_lexer": "ipython3",
   "version": "3.10.8"
  },
  "orig_nbformat": 4
 },
 "nbformat": 4,
 "nbformat_minor": 2
}
